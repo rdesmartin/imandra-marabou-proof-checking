{
 "cells": [
  {
   "cell_type": "code",
   "execution_count": null,
   "id": "5ac202f8-1c31-40b5-90b1-7fccf0418083",
   "metadata": {},
   "outputs": [],
   "source": []
  }
 ],
 "metadata": {
  "kernelspec": {
   "display_name": "Imandra",
   "language": "ocaml",
   "name": "imandra"
  },
  "language_info": {
   "codemirror_mode": "mllike",
   "file_extension": ".ml",
   "mimetype": "text",
   "name": "ocaml",
   "version": "0.1.0"
  }
 },
 "nbformat": 4,
 "nbformat_minor": 5
}
