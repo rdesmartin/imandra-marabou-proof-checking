{
 "cells": [
  {
   "cell_type": "code",
   "execution_count": 5,
   "id": "c7abdbb3-e62c-4c06-92c7-04354c1a2362",
   "metadata": {
    "scrolled": true,
    "tags": []
   },
   "outputs": [
    {
     "data": {
      "text/plain": []
     },
     "execution_count": 5,
     "metadata": {},
     "output_type": "execute_result"
    }
   ],
   "source": [
    "[@@@import \"proof_checker/utils.iml\"];;\n",
    "[@@@import \"proof_checker/result.iml\"];;\n",
    "[@@@import \"proof_checker/iter_map.iml\"];;\n",
    "[@@@import \"proof_checker/farkas_lemma.iml\"];;\n"
   ]
  },
  {
   "cell_type": "code",
   "execution_count": null,
   "id": "71c4c5b9-324f-49b5-8bea-5f913750c61e",
   "metadata": {},
   "outputs": [],
   "source": [
    "[@@@import \"proof_checker/tightening.iml\"];;\n",
    "[@@@import \"proof_checker/constraint.iml\"];;\n",
    "[@@@import \"proof_checker/arithmetic.iml\"];;\n",
    "[@@@import \"proof_checker/check_splits.iml\"];;\n",
    "[@@@import \"proof_checker/certificate.iml\"];;\n",
    "[@@@import \"proof_checker/bound_lemma.iml\"];;\n",
    "[@@@import \"proof_checker/proof_tree.iml\"];;\n",
    "[@@@import \"proof_checker/json_decoder.ml\"];;\n",
    "[@@@import \"proof_checker/checker.iml\"];;"
   ]
  }
 ],
 "metadata": {
  "kernelspec": {
   "display_name": "Imandra",
   "language": "ocaml",
   "name": "imandra"
  },
  "language_info": {
   "codemirror_mode": "mllike",
   "file_extension": ".ml",
   "mimetype": "text",
   "name": "ocaml",
   "version": "0.1.0"
  }
 },
 "nbformat": 4,
 "nbformat_minor": 5
}
